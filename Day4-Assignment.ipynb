{
 "cells": [
  {
   "cell_type": "code",
   "execution_count": 1,
   "metadata": {},
   "outputs": [
    {
     "name": "stdout",
     "output_type": "stream",
     "text": [
      "enter 1st no.6+2j\n",
      "enter 2nd no.4+1j\n",
      "(10+3j)\n",
      "(2+1j)\n",
      "(22+14j)\n",
      "(1.5294117647058822+0.11764705882352941j)\n"
     ]
    }
   ],
   "source": [
    "#Question 1 :\n",
    "#Research on whether addition, subtraction, multiplication, division, floor division, and modulo operations\n",
    "#be performed on complex numbers. Based on your study, implement a Python program to demonstrate\n",
    "#these operations.\n",
    "a=complex(input(\"enter 1st no.\"))\n",
    "b=complex(input(\"enter 2nd no.\"))\n",
    "print(a+b)\n",
    "print(a-b)\n",
    "print(a*b)\n",
    "print(a/b)\n"
   ]
  },
  {
   "cell_type": "markdown",
   "metadata": {},
   "source": [
    "#Question 2 :\n",
    "#Research on range() functions and its parameters. Create a markdown cell and write in your own words\n",
    "#(no copy-paste from google please) what you understand about it. Implement a small program of your\n",
    "#choice on the same.\n",
    "1.Considers only int datatype\n",
    "2.The built-in function range() generates the integer numbers between the given start integer to the stop integer\n",
    "3.Syntax is range(start, stop , step)\n",
    "->Start:A starting number of the sequence (i.e) lower limit\n",
    "->Stop:A stop argument is an upper limit(i.e) generate numbers up to this number, The range() doesn’t include this number in the result.\n",
    "->The step is a difference between each number in the result. The default value of the step is 1 if not specified.\n"
   ]
  },
  {
   "cell_type": "code",
   "execution_count": 2,
   "metadata": {},
   "outputs": [
    {
     "name": "stdout",
     "output_type": "stream",
     "text": [
      "enter the 1st no.26\n",
      "enter the 2nd no.25\n",
      "1\n",
      "1.04\n"
     ]
    }
   ],
   "source": [
    "#Question 3:\n",
    "#Consider two numbers. Perform their subtraction and if the result of subtraction is greater than 25, print\n",
    "#their multiplication result else print their division result.\n",
    "a=int(input(\"enter the 1st no.\"))\n",
    "b=int(input(\"enter the 2nd no.\"))\n",
    "c=a-b\n",
    "print(c)\n",
    "if c>25:\n",
    "    print(a*b)\n",
    "else:\n",
    "    print(a/b)"
   ]
  },
  {
   "cell_type": "code",
   "execution_count": 3,
   "metadata": {},
   "outputs": [
    {
     "name": "stdout",
     "output_type": "stream",
     "text": [
      "square of that number minus 2 2\n",
      "square of that number minus 2 4\n",
      "square of that number minus 2 6\n",
      "square of that number minus 2 8\n"
     ]
    }
   ],
   "source": [
    "#Question 4:\n",
    "#Consider a list of 10 elements of integer values. If the number in the list is divisible by 2, print the result as\n",
    "#\"square of that number minus 2\".\n",
    "for i in range(1,10):\n",
    "    if i%2==0:\n",
    "        print(\"square of that number minus 2\",i)"
   ]
  },
  {
   "cell_type": "code",
   "execution_count": 4,
   "metadata": {},
   "outputs": [
    {
     "name": "stdout",
     "output_type": "stream",
     "text": [
      "14\n",
      "230\n",
      "32\n",
      "12\n",
      "70\n"
     ]
    }
   ],
   "source": [
    "#Question 5:\n",
    "#Consider a list of 10 elements. Print all the elements in the list which are greater than 7 when that number\n",
    "#is divided 2.\n",
    "list=[2,7,14,35,65,230,32,89,12,70]\n",
    "for i in range(len(list)):\n",
    "    if (list[i]>7):\n",
    "        if(list[i]%2==0):\n",
    "            print(list[i])\n",
    "   \n",
    "      "
   ]
  },
  {
   "cell_type": "code",
   "execution_count": null,
   "metadata": {},
   "outputs": [],
   "source": []
  }
 ],
 "metadata": {
  "kernelspec": {
   "display_name": "Python 3",
   "language": "python",
   "name": "python3"
  },
  "language_info": {
   "codemirror_mode": {
    "name": "ipython",
    "version": 3
   },
   "file_extension": ".py",
   "mimetype": "text/x-python",
   "name": "python",
   "nbconvert_exporter": "python",
   "pygments_lexer": "ipython3",
   "version": "3.7.6"
  }
 },
 "nbformat": 4,
 "nbformat_minor": 4
}
