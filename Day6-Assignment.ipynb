{
 "cells": [
  {
   "cell_type": "raw",
   "metadata": {},
   "source": [
    "Question 1 :\n",
    "Assuming that we have some email addresses in the \"username@companyname.com\" format, please\n",
    "write a program to print the company name of a given email address. Both user names and company\n",
    "names are composed of letters only."
   ]
  },
  {
   "cell_type": "code",
   "execution_count": 1,
   "metadata": {},
   "outputs": [
    {
     "name": "stdout",
     "output_type": "stream",
     "text": [
      "enter mail addressramya@kct.com\n",
      "kct\n"
     ]
    }
   ],
   "source": [
    "a=input(\"enter mail address\")\n",
    "for i in range(len(a)):\n",
    "    if a[i]=='@':\n",
    "        b=i\n",
    "    elif a[i]=='.':\n",
    "        c=i\n",
    "        print(a[b+1:c])"
   ]
  },
  {
   "cell_type": "raw",
   "metadata": {},
   "source": [
    "Question 2 :\n",
    "Write a program that accepts a comma-separated sequence of words as input and prints the words in a\n",
    "comma-separated sequence after sorting them alphabetically.\n",
    "Input Format:\n",
    "The first line of input contains words separated by the comma.\n",
    "Output Format:\n",
    "Print the sorted words separated by the comma."
   ]
  },
  {
   "cell_type": "code",
   "execution_count": 2,
   "metadata": {},
   "outputs": [
    {
     "name": "stdout",
     "output_type": "stream",
     "text": [
      "enter elementsramya,all\n",
      "['all', 'ramya']\n"
     ]
    }
   ],
   "source": [
    "list=[]\n",
    "a=(input(\"enter elements\"))\n",
    "for i in range(len(a)):\n",
    "    list=a.split(\",\")\n",
    "    list.sort()\n",
    "print(list)\n"
   ]
  },
  {
   "cell_type": "raw",
   "metadata": {},
   "source": [
    "Question 3:\n",
    "Create your own Jupyter Notebook for Sets. Reference link:\n",
    "https://www.w3schools.com/python/python_sets.asp"
   ]
  },
  {
   "cell_type": "code",
   "execution_count": 1,
   "metadata": {},
   "outputs": [
    {
     "name": "stdout",
     "output_type": "stream",
     "text": [
      "{'shree', 'ramya', 'subhaa'}\n",
      "shree\n",
      "True\n",
      "ramya\n",
      "True\n",
      "subhaa\n",
      "True\n",
      "{'shree', 'ramya', 'subhaa', 's'}\n",
      "{'shree', 'subhaa', 's'}\n",
      "set()\n"
     ]
    }
   ],
   "source": [
    "#Sets are represented using {}\n",
    "#Sets are unordered,indexing is possible \n",
    "#We can access , insert,delete elements in a set\n",
    "s1 = {\"ramya\", \"shree\", \"subhaa\",\"shree\"}\n",
    "print(s1)\n",
    "for x in s1:\n",
    "    print(x)\n",
    "    print(\"shree\" in s1)\n",
    "s1.add(\"s\")\n",
    "print(s1)\n",
    "s1.remove(\"ramya\")\n",
    "print(s1)\n",
    "s1.clear()\n",
    "print(s1)\n",
    "\n"
   ]
  },
  {
   "cell_type": "raw",
   "metadata": {},
   "source": [
    "Given a list of n-1 numbers ranging from 1 to n, your task is to find the missing number. There are no\n",
    "duplicates.\n",
    "Input Format:\n",
    "The first line contains n-1 numbers with each number separated by a space.\n",
    "Output Format:\n",
    "Print the missing number"
   ]
  },
  {
   "cell_type": "code",
   "execution_count": 4,
   "metadata": {},
   "outputs": [
    {
     "name": "stdout",
     "output_type": "stream",
     "text": [
      "[3, 5, 8]\n"
     ]
    }
   ],
   "source": [
    "def find_missing(lst): \n",
    "    return [x for x in range(lst[0], lst[-1]+1)  \n",
    "                               if x not in lst] \n",
    "lst = [1, 2, 4, 6, 7, 9, 10] \n",
    "print(find_missing(lst))"
   ]
  },
  {
   "cell_type": "raw",
   "metadata": {},
   "source": [
    "Question 5:\n",
    "With a given list L, write a program to print this list L after removing all duplicate values with original order\n",
    "reserved. "
   ]
  },
  {
   "cell_type": "code",
   "execution_count": 12,
   "metadata": {},
   "outputs": [
    {
     "name": "stdout",
     "output_type": "stream",
     "text": [
      "enter elements1 2 3 4 4\n",
      "['1', '2', '3', '4']\n"
     ]
    }
   ],
   "source": [
    "a=input(\"enter elements\")\n",
    "b=a.split()\n",
    "l=[]\n",
    "for i in b:\n",
    "    if i not in l:\n",
    "        l.append(i)\n",
    "print(l)"
   ]
  },
  {
   "cell_type": "code",
   "execution_count": null,
   "metadata": {},
   "outputs": [],
   "source": []
  },
  {
   "cell_type": "code",
   "execution_count": null,
   "metadata": {},
   "outputs": [],
   "source": []
  }
 ],
 "metadata": {
  "kernelspec": {
   "display_name": "Python 3",
   "language": "python",
   "name": "python3"
  },
  "language_info": {
   "codemirror_mode": {
    "name": "ipython",
    "version": 3
   },
   "file_extension": ".py",
   "mimetype": "text/x-python",
   "name": "python",
   "nbconvert_exporter": "python",
   "pygments_lexer": "ipython3",
   "version": "3.7.6"
  }
 },
 "nbformat": 4,
 "nbformat_minor": 4
}
