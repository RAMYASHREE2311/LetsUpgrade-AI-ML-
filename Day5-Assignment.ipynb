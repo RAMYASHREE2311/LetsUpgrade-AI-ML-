{
 "cells": [
  {
   "cell_type": "code",
   "execution_count": 1,
   "metadata": {},
   "outputs": [
    {
     "name": "stdout",
     "output_type": "stream",
     "text": [
      "1\n",
      "3\n",
      "5\n",
      "7\n",
      "9\n",
      "11\n",
      "13\n",
      "15\n",
      "17\n",
      "19\n"
     ]
    }
   ],
   "source": [
    "#Question 1 :\n",
    "#Write a Python program to find the first 20 non-even prime natural numbers.\n",
    "for i in range(1,21):\n",
    "    if i%2!=0:\n",
    "        print(i)"
   ]
  },
  {
   "cell_type": "code",
   "execution_count": 2,
   "metadata": {},
   "outputs": [
    {
     "name": "stdout",
     "output_type": "stream",
     "text": [
      "enter the stringRamya\n",
      "Ramya\n",
      "RAMYA\n",
      "ramya\n",
      "2\n",
      "True\n",
      "True\n",
      "False\n",
      "False\n",
      "False\n",
      "False\n",
      "False\n",
      "Ramya\n",
      "False\n",
      "True\n",
      "True\n"
     ]
    }
   ],
   "source": [
    "#Question 2 :\n",
    "#Write a Python program to implement 15 functions of string.\n",
    "a=input(\"enter the string\")\n",
    "print(a.capitalize())\n",
    "print(a.upper())\n",
    "print(a.lower())\n",
    "print(a.count(\"a\"))\n",
    "print(a.isalnum())\n",
    "print(a.isalpha())\n",
    "print(a.isdecimal())\n",
    "print(a.isdigit())\n",
    "print(a.islower())\n",
    "print(a.isupper())\n",
    "print(a.startswith(\"h\"))\n",
    "print(a.rstrip())\n",
    "print(a.isspace())\n",
    "print(a.isprintable())\n",
    "print(a.endswith(\"a\"))\n",
    "\n"
   ]
  },
  {
   "cell_type": "code",
   "execution_count": 3,
   "metadata": {},
   "outputs": [
    {
     "name": "stdout",
     "output_type": "stream",
     "text": [
      "Enter first string:malayalam\n",
      "Enter second string:tamil\n",
      "The string is a palindrome.\n",
      "The strings aren't anagrams.\n"
     ]
    }
   ],
   "source": [
    "#Question 3:\n",
    "#Write a Python program to check if the given string is a Palindrome or Anagram or None of them. Display\n",
    "#the message accordingly to the user.\n",
    "s1=input(\"Enter first string:\")\n",
    "s2=input(\"Enter second string:\")\n",
    "s1 = s1.casefold()\n",
    "rev_str = reversed(s1)\n",
    "if list(s1) == list(rev_str):\n",
    "   print(\"The string is a palindrome.\")\n",
    "else:\n",
    "   print(\"The string is not a palindrome.\")\n",
    "if(sorted(s1)==sorted(s2)):\n",
    "      print(\"The strings are anagrams.\")\n",
    "else:\n",
    "      print(\"The strings aren't anagrams.\")"
   ]
  },
  {
   "cell_type": "code",
   "execution_count": 4,
   "metadata": {},
   "outputs": [
    {
     "name": "stdout",
     "output_type": "stream",
     "text": [
      "Enter first string:Ramya #$^shree\n",
      "ramyashree\n"
     ]
    }
   ],
   "source": [
    "#Question 4:\n",
    "#Write a Python's user-defined function that removes all the additional characters from the string and\n",
    "#convert it finally to lower case using built-in lower(). eg: If the string is \"Dr. Darshan Ingle @AIML Trainer\",\n",
    "#then the output be \"drdarshaningleaimltrainer\".\n",
    "s1=input(\"Enter first string:\")\n",
    "s2 = \"\"\n",
    "for character in s1:\n",
    "    if character.isalnum():\n",
    "        s2 += character.lower()\n",
    "print(s2)\n",
    "    "
   ]
  },
  {
   "cell_type": "code",
   "execution_count": null,
   "metadata": {},
   "outputs": [],
   "source": []
  }
 ],
 "metadata": {
  "kernelspec": {
   "display_name": "Python 3",
   "language": "python",
   "name": "python3"
  },
  "language_info": {
   "codemirror_mode": {
    "name": "ipython",
    "version": 3
   },
   "file_extension": ".py",
   "mimetype": "text/x-python",
   "name": "python",
   "nbconvert_exporter": "python",
   "pygments_lexer": "ipython3",
   "version": "3.7.6"
  }
 },
 "nbformat": 4,
 "nbformat_minor": 4
}
